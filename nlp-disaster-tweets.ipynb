{
 "cells": [
  {
   "cell_type": "markdown",
   "id": "7d0fcbd0-7347-47db-96b2-2119ba202d53",
   "metadata": {},
   "source": [
    "## Objective: Identify Tweets About Real Disasters\n",
    "\n",
    "Our objective is to train a model to accurately identify tweets that are about real disasters. We will be using Recurrent Neural Networks in order to achieve our goal. Since our objective is to identify tweets about real disasters vs. all others this is a binary classification problem."
   ]
  },
  {
   "cell_type": "code",
   "execution_count": 1,
   "id": "866270e8-09c0-4de7-ad1f-a11d184a5450",
   "metadata": {
    "tags": []
   },
   "outputs": [
    {
     "name": "stderr",
     "output_type": "stream",
     "text": [
      "2024-01-25 15:09:27.178723: I tensorflow/core/platform/cpu_feature_guard.cc:182] This TensorFlow binary is optimized to use available CPU instructions in performance-critical operations.\n",
      "To enable the following instructions: AVX2 FMA, in other operations, rebuild TensorFlow with the appropriate compiler flags.\n"
     ]
    }
   ],
   "source": [
    "## Import Libraries\n",
    "\n",
    "import numpy as np\n",
    "import pandas as pd\n",
    "\n",
    "import tensorflow as tf\n",
    "import keras\n",
    "\n",
    "import sklearn\n",
    "\n",
    "keras.utils.set_random_seed(8122) ## for reproducability\n",
    "\n",
    "#Data Viz\n",
    "import matplotlib.pyplot as plt\n",
    "import seaborn as sns\n",
    "\n",
    "#Models and preprocessing\n",
    "from tensorflow.keras.preprocessing.text import Tokenizer\n",
    "from tensorflow.keras.utils import pad_sequences\n",
    "\n",
    "from tensorflow.keras.models import Sequential\n",
    "from keras.layers import Embedding, InputLayer, GRU, BatchNormalization, Bidirectional, LSTM, Dense, Dropout, TextVectorization\n",
    "\n",
    "import keras_tuner\n",
    "\n",
    "#Optimizers\n",
    "from keras.optimizers import Adam\n",
    "from keras.callbacks import EarlyStopping\n",
    "\n",
    "#Evaluation\n",
    "from sklearn.model_selection import train_test_split\n",
    "import keras.backend as K\n",
    "from sklearn.metrics import confusion_matrix, precision_score, recall_score, accuracy_score\n"
   ]
  },
  {
   "cell_type": "code",
   "execution_count": 2,
   "id": "430b278b-345f-4be4-9e97-a4fa0ac50351",
   "metadata": {
    "tags": []
   },
   "outputs": [
    {
     "data": {
      "text/html": [
       "<div>\n",
       "<style scoped>\n",
       "    .dataframe tbody tr th:only-of-type {\n",
       "        vertical-align: middle;\n",
       "    }\n",
       "\n",
       "    .dataframe tbody tr th {\n",
       "        vertical-align: top;\n",
       "    }\n",
       "\n",
       "    .dataframe thead th {\n",
       "        text-align: right;\n",
       "    }\n",
       "</style>\n",
       "<table border=\"1\" class=\"dataframe\">\n",
       "  <thead>\n",
       "    <tr style=\"text-align: right;\">\n",
       "      <th></th>\n",
       "      <th>id</th>\n",
       "      <th>keyword</th>\n",
       "      <th>location</th>\n",
       "      <th>text</th>\n",
       "      <th>target</th>\n",
       "    </tr>\n",
       "  </thead>\n",
       "  <tbody>\n",
       "    <tr>\n",
       "      <th>0</th>\n",
       "      <td>1</td>\n",
       "      <td>NaN</td>\n",
       "      <td>NaN</td>\n",
       "      <td>Our Deeds are the Reason of this #earthquake M...</td>\n",
       "      <td>1</td>\n",
       "    </tr>\n",
       "    <tr>\n",
       "      <th>1</th>\n",
       "      <td>4</td>\n",
       "      <td>NaN</td>\n",
       "      <td>NaN</td>\n",
       "      <td>Forest fire near La Ronge Sask. Canada</td>\n",
       "      <td>1</td>\n",
       "    </tr>\n",
       "    <tr>\n",
       "      <th>2</th>\n",
       "      <td>5</td>\n",
       "      <td>NaN</td>\n",
       "      <td>NaN</td>\n",
       "      <td>All residents asked to 'shelter in place' are ...</td>\n",
       "      <td>1</td>\n",
       "    </tr>\n",
       "    <tr>\n",
       "      <th>3</th>\n",
       "      <td>6</td>\n",
       "      <td>NaN</td>\n",
       "      <td>NaN</td>\n",
       "      <td>13,000 people receive #wildfires evacuation or...</td>\n",
       "      <td>1</td>\n",
       "    </tr>\n",
       "    <tr>\n",
       "      <th>4</th>\n",
       "      <td>7</td>\n",
       "      <td>NaN</td>\n",
       "      <td>NaN</td>\n",
       "      <td>Just got sent this photo from Ruby #Alaska as ...</td>\n",
       "      <td>1</td>\n",
       "    </tr>\n",
       "  </tbody>\n",
       "</table>\n",
       "</div>"
      ],
      "text/plain": [
       "   id keyword location                                               text  \\\n",
       "0   1     NaN      NaN  Our Deeds are the Reason of this #earthquake M...   \n",
       "1   4     NaN      NaN             Forest fire near La Ronge Sask. Canada   \n",
       "2   5     NaN      NaN  All residents asked to 'shelter in place' are ...   \n",
       "3   6     NaN      NaN  13,000 people receive #wildfires evacuation or...   \n",
       "4   7     NaN      NaN  Just got sent this photo from Ruby #Alaska as ...   \n",
       "\n",
       "   target  \n",
       "0       1  \n",
       "1       1  \n",
       "2       1  \n",
       "3       1  \n",
       "4       1  "
      ]
     },
     "execution_count": 2,
     "metadata": {},
     "output_type": "execute_result"
    }
   ],
   "source": [
    "train = pd.read_csv('~/Desktop/Deep Learning/nlp-disaster-tweets/train.csv')\n",
    "test = pd.read_csv('~/Desktop/Deep Learning/nlp-disaster-tweets/test.csv')\n",
    "\n",
    "train.head()"
   ]
  },
  {
   "cell_type": "markdown",
   "id": "8ba452a6-8f56-4940-8eb5-1934f5046b01",
   "metadata": {},
   "source": [
    "### Cleaning the Data\n",
    "\n"
   ]
  },
  {
   "cell_type": "code",
   "execution_count": 3,
   "id": "c53613a4-790d-47bc-8da3-ffd335b57cdb",
   "metadata": {
    "tags": []
   },
   "outputs": [
    {
     "name": "stdout",
     "output_type": "stream",
     "text": [
      "<class 'pandas.core.frame.DataFrame'>\n",
      "RangeIndex: 7613 entries, 0 to 7612\n",
      "Data columns (total 5 columns):\n",
      " #   Column    Non-Null Count  Dtype \n",
      "---  ------    --------------  ----- \n",
      " 0   id        7613 non-null   int64 \n",
      " 1   keyword   7552 non-null   object\n",
      " 2   location  5080 non-null   object\n",
      " 3   text      7613 non-null   object\n",
      " 4   target    7613 non-null   int64 \n",
      "dtypes: int64(2), object(3)\n",
      "memory usage: 297.5+ KB\n"
     ]
    }
   ],
   "source": [
    "train.info()"
   ]
  },
  {
   "cell_type": "markdown",
   "id": "80d2c3c4-95c7-41eb-acbd-16cc5a1d50a3",
   "metadata": {},
   "source": [
    "While reviewing the data using the info method we can see that there are 7,613 tweets in our training set with 4 features: \"keyword\", \"location\", \"text\", and \"target\". \n",
    "\n",
    "The target feature shows whether a tweet is about a real disaster (1) or not (0). \n",
    "\n",
    "We can see that there are some features with null values: the location feature has 2,533 null values and the keyword feature has 61. It is difficult to impute a location or keyword for our dataset so we are, instead, forced to look at other options.\n",
    "\n",
    "Given that \"keyword\" has only 61 null values it is economical to simply remove those rows however if we remove all rows with a null value for \"location\" we will be removing approximately 33% of our training dataset which is far too much. Instead, we can encode the null value as the string \"0\" in order to include those rows in our analysis. "
   ]
  },
  {
   "cell_type": "code",
   "execution_count": 4,
   "id": "d847d12c-b2d8-4185-bb4e-6440d6759826",
   "metadata": {
    "tags": []
   },
   "outputs": [
    {
     "name": "stderr",
     "output_type": "stream",
     "text": [
      "/var/folders/b2/mncs7bqx383fz9mcvwskngh00000gn/T/ipykernel_73101/1515736361.py:4: SettingWithCopyWarning: \n",
      "A value is trying to be set on a copy of a slice from a DataFrame.\n",
      "Try using .loc[row_indexer,col_indexer] = value instead\n",
      "\n",
      "See the caveats in the documentation: https://pandas.pydata.org/pandas-docs/stable/user_guide/indexing.html#returning-a-view-versus-a-copy\n",
      "  df['location'] = df['location'].fillna(\"\")\n"
     ]
    }
   ],
   "source": [
    "#drop rows with null keywords\n",
    "df = train.dropna(subset=['keyword'])\n",
    "\n",
    "df['location'] = df['location'].fillna(\"\")"
   ]
  },
  {
   "cell_type": "code",
   "execution_count": 5,
   "id": "0d17f269-72f4-48d5-966e-dda5048ed2f7",
   "metadata": {
    "tags": []
   },
   "outputs": [
    {
     "name": "stdout",
     "output_type": "stream",
     "text": [
      "<class 'pandas.core.frame.DataFrame'>\n",
      "Index: 7552 entries, 31 to 7582\n",
      "Data columns (total 5 columns):\n",
      " #   Column    Non-Null Count  Dtype \n",
      "---  ------    --------------  ----- \n",
      " 0   id        7552 non-null   int64 \n",
      " 1   keyword   7552 non-null   object\n",
      " 2   location  7552 non-null   object\n",
      " 3   text      7552 non-null   object\n",
      " 4   target    7552 non-null   int64 \n",
      "dtypes: int64(2), object(3)\n",
      "memory usage: 354.0+ KB\n"
     ]
    }
   ],
   "source": [
    "df.info()"
   ]
  },
  {
   "cell_type": "markdown",
   "id": "88e95fd6-7f2b-45b0-990b-dd01d5f831d9",
   "metadata": {},
   "source": [
    "Now we can see that there are 7,552 total entries with no null values.\n",
    "\n",
    "The text of these tweets include social media specific language such as hashtags and URLs in some instances. While hashtags may provide some information for the model to learn from, URLs are unlikely to be helpful and so should be removed."
   ]
  },
  {
   "cell_type": "code",
   "execution_count": 6,
   "id": "9ed26cef-48bc-47a4-b5ed-a3911012a2a1",
   "metadata": {
    "tags": []
   },
   "outputs": [
    {
     "name": "stderr",
     "output_type": "stream",
     "text": [
      "/var/folders/b2/mncs7bqx383fz9mcvwskngh00000gn/T/ipykernel_73101/3750252900.py:3: SettingWithCopyWarning: \n",
      "A value is trying to be set on a copy of a slice from a DataFrame.\n",
      "Try using .loc[row_indexer,col_indexer] = value instead\n",
      "\n",
      "See the caveats in the documentation: https://pandas.pydata.org/pandas-docs/stable/user_guide/indexing.html#returning-a-view-versus-a-copy\n",
      "  df['text'] = df['text'].str.replace('http\\S+|www.\\S+', '', regex=True, case=False)\n"
     ]
    }
   ],
   "source": [
    "## Remove URLs from text\n",
    "\n",
    "df['text'] = df['text'].str.replace('http\\S+|www.\\S+', '', regex=True, case=False)\n",
    "test['text'] = test['text'].str.replace('http\\S+|www.\\S+', '', regex=True, case=False)"
   ]
  },
  {
   "cell_type": "markdown",
   "id": "8d0c5f51-c811-485f-b1ce-43290d356aaa",
   "metadata": {},
   "source": [
    "## Exploring the Data"
   ]
  },
  {
   "cell_type": "code",
   "execution_count": 7,
   "id": "956f4e26-ee91-4877-9007-415b7fbd49a4",
   "metadata": {
    "tags": []
   },
   "outputs": [
    {
     "name": "stderr",
     "output_type": "stream",
     "text": [
      "/var/folders/b2/mncs7bqx383fz9mcvwskngh00000gn/T/ipykernel_73101/3298500937.py:2: SettingWithCopyWarning: \n",
      "A value is trying to be set on a copy of a slice from a DataFrame.\n",
      "Try using .loc[row_indexer,col_indexer] = value instead\n",
      "\n",
      "See the caveats in the documentation: https://pandas.pydata.org/pandas-docs/stable/user_guide/indexing.html#returning-a-view-versus-a-copy\n",
      "  df['len'] = df['text'].str.len()\n"
     ]
    },
    {
     "data": {
      "text/plain": [
       "count    7552.000000\n",
       "mean       87.494041\n",
       "std        32.487667\n",
       "min         6.000000\n",
       "25%        63.000000\n",
       "50%        90.000000\n",
       "75%       114.000000\n",
       "max       157.000000\n",
       "Name: len, dtype: float64"
      ]
     },
     "execution_count": 7,
     "metadata": {},
     "output_type": "execute_result"
    }
   ],
   "source": [
    "#Explore length of texts\n",
    "df['len'] = df['text'].str.len()\n",
    "\n",
    "df['len'].describe()"
   ]
  },
  {
   "cell_type": "code",
   "execution_count": 8,
   "id": "78e906fc-03a1-4f57-8a23-6404a94151fa",
   "metadata": {
    "tags": []
   },
   "outputs": [
    {
     "data": {
      "text/plain": [
       "[Text(0.5, 0, 'Length of Tweet (in characters)'), Text(0, 0.5, 'Count')]"
      ]
     },
     "execution_count": 8,
     "metadata": {},
     "output_type": "execute_result"
    },
    {
     "data": {
      "image/png": "[encoded data removed]",
      "text/plain": [
       "<Figure size 640x480 with 1 Axes>"
      ]
     },
     "metadata": {},
     "output_type": "display_data"
    }
   ],
   "source": [
    "#plot lengths of texts\n",
    "\n",
    "plot = sns.histplot(data=df, x='len')\n",
    "plot.set_title('Tweet Length Distribution')\n",
    "plot.set(xlabel='Length of Tweet (in characters)', ylabel='Count')\n"
   ]
  },
  {
   "cell_type": "markdown",
   "id": "42113043-bbc1-4802-9d98-363234a64720",
   "metadata": {},
   "source": [
    "It appears that the plurality of tweets are around 115 characters long, after removing URLs."
   ]
  },
  {
   "cell_type": "code",
   "execution_count": 9,
   "id": "5f4a149b-6e35-4ead-9113-8e0cb36bd7a1",
   "metadata": {
    "tags": []
   },
   "outputs": [
    {
     "name": "stderr",
     "output_type": "stream",
     "text": [
      "/var/folders/b2/mncs7bqx383fz9mcvwskngh00000gn/T/ipykernel_73101/1603806953.py:1: SettingWithCopyWarning: \n",
      "A value is trying to be set on a copy of a slice from a DataFrame.\n",
      "Try using .loc[row_indexer,col_indexer] = value instead\n",
      "\n",
      "See the caveats in the documentation: https://pandas.pydata.org/pandas-docs/stable/user_guide/indexing.html#returning-a-view-versus-a-copy\n",
      "  df['num_hash'] = df['text'].str.count('#')\n"
     ]
    },
    {
     "data": {
      "text/plain": [
       "<Axes: title={'center': 'Distribution of Hashtags by Tweet'}, xlabel='Hashtags', ylabel='Count'>"
      ]
     },
     "execution_count": 9,
     "metadata": {},
     "output_type": "execute_result"
    },
    {
     "data": {
      "image/png": "[encoded data removed]",
      "text/plain": [
       "<Figure size 640x480 with 1 Axes>"
      ]
     },
     "metadata": {},
     "output_type": "display_data"
    }
   ],
   "source": [
    "df['num_hash'] = df['text'].str.count('#')\n",
    "\n",
    "plot = sns.histplot(data=df, x='num_hash')\n",
    "plot.set_title('Distribution of Hashtags by Tweet')\n",
    "plot.set(xlabel='Hashtags', ylabel='Count')\n",
    "\n",
    "plot"
   ]
  },
  {
   "cell_type": "markdown",
   "id": "5717c41a-2fdc-4af2-9181-03751252649d",
   "metadata": {},
   "source": [
    "We can see that the vast majority of tweets contain between 0-1 hashtags in the training dataset. "
   ]
  },
  {
   "cell_type": "code",
   "execution_count": 10,
   "id": "2b1645e1-73c8-45a8-a150-a48d87d11dc4",
   "metadata": {},
   "outputs": [
    {
     "data": {
      "text/plain": [
       "<Axes: title={'center': 'Number of Tweets by True Label'}, xlabel='True Label', ylabel='Count'>"
      ]
     },
     "execution_count": 10,
     "metadata": {},
     "output_type": "execute_result"
    },
    {
     "data": {
      "image/png": "[encoded data removed]",
      "text/plain": [
       "<Figure size 640x480 with 1 Axes>"
      ]
     },
     "metadata": {},
     "output_type": "display_data"
    }
   ],
   "source": [
    "plot = sns.histplot(data=df, x='target')\n",
    "plot.set_title('Number of Tweets by True Label')\n",
    "plot.set(xlabel='True Label', ylabel='Count')\n",
    "\n",
    "plot"
   ]
  },
  {
   "cell_type": "code",
   "execution_count": 11,
   "id": "20ac10bb-b8e0-43c9-ad95-ef1b34b43c03",
   "metadata": {},
   "outputs": [
    {
     "name": "stdout",
     "output_type": "stream",
     "text": [
      "We can see that there are less tweets regarding real disasters than false ones in the training data.\n",
      "Real disasters make up 42.76% of the training data, while false ones make up 57.24%\n",
      "This shows that our dataset is relatively balanced between the two categories.\n"
     ]
    }
   ],
   "source": [
    "real = len(df[df['target'] == 1])\n",
    "false_disaster = len(df[df['target'] == 0])\n",
    "real_percent = round((real / (real + false_disaster)) * 100,2)\n",
    "false_percent = round(100 - real_percent,2)\n",
    "\n",
    "print(f\"We can see that there are less tweets regarding real disasters than false ones in the training data.\")\n",
    "print(f\"Real disasters make up {real_percent}% of the training data, while false ones make up {false_percent}%\")\n",
    "print(\"This shows that our dataset is relatively balanced between the two categories.\")"
   ]
  },
  {
   "cell_type": "markdown",
   "id": "aa7e5308-2a6b-4e35-8414-02f7c68c0128",
   "metadata": {},
   "source": [
    "We can see that our dataset is relatively balanced which means that we can rely more on metrics like accuracy that are sensitive to unbalanced datasets in order to determine the efficacy of our models."
   ]
  },
  {
   "cell_type": "markdown",
   "id": "8fd47473-1a6c-434e-be57-b2ccc61adb93",
   "metadata": {},
   "source": [
    "## Preparing the Data for Modeling\n",
    "\n",
    "In order to allow the model to learn from keywords and locations, we can concatenate that information to the text column to create a new string, \"content\". "
   ]
  },
  {
   "cell_type": "code",
   "execution_count": 12,
   "id": "37908651-3a01-4085-9cbe-a11c27322821",
   "metadata": {
    "tags": []
   },
   "outputs": [
    {
     "name": "stderr",
     "output_type": "stream",
     "text": [
      "/var/folders/b2/mncs7bqx383fz9mcvwskngh00000gn/T/ipykernel_73101/3094229442.py:3: SettingWithCopyWarning: \n",
      "A value is trying to be set on a copy of a slice from a DataFrame.\n",
      "Try using .loc[row_indexer,col_indexer] = value instead\n",
      "\n",
      "See the caveats in the documentation: https://pandas.pydata.org/pandas-docs/stable/user_guide/indexing.html#returning-a-view-versus-a-copy\n",
      "  df['content'] = df['keyword'] + '_' + df['text'] + '_' + df['location']\n",
      "/var/folders/b2/mncs7bqx383fz9mcvwskngh00000gn/T/ipykernel_73101/3094229442.py:5: SettingWithCopyWarning: \n",
      "A value is trying to be set on a copy of a slice from a DataFrame.\n",
      "Try using .loc[row_indexer,col_indexer] = value instead\n",
      "\n",
      "See the caveats in the documentation: https://pandas.pydata.org/pandas-docs/stable/user_guide/indexing.html#returning-a-view-versus-a-copy\n",
      "  df['content_len'] = df['content'].str.len()\n"
     ]
    },
    {
     "data": {
      "text/plain": [
       "count    7552.000000\n",
       "mean      107.410222\n",
       "std        34.672292\n",
       "min        16.000000\n",
       "25%        81.000000\n",
       "50%       109.000000\n",
       "75%       135.000000\n",
       "max       195.000000\n",
       "Name: content_len, dtype: float64"
      ]
     },
     "execution_count": 12,
     "metadata": {},
     "output_type": "execute_result"
    }
   ],
   "source": [
    "#Combine keywords and location to text\n",
    "\n",
    "df['content'] = df['keyword'] + '_' + df['text'] + '_' + df['location']\n",
    "\n",
    "df['content_len'] = df['content'].str.len()\n",
    "\n",
    "df['content_len'].describe()\n"
   ]
  },
  {
   "cell_type": "code",
   "execution_count": 13,
   "id": "ba8e3ad6-d780-41e2-bf76-9282f8ba0976",
   "metadata": {
    "tags": []
   },
   "outputs": [],
   "source": [
    "#split training data into training and validation sets\n",
    "X_train, X_val, y_train, y_val = train_test_split(df['content'], df['target'], test_size=0.2)\n",
    "\n",
    "\n",
    "train_ds = tf.data.Dataset.from_tensor_slices((X_train, y_train))\n",
    "val_ds = tf.data.Dataset.from_tensor_slices((X_val, y_val))\n"
   ]
  },
  {
   "cell_type": "code",
   "execution_count": 14,
   "id": "13f2e528-d8cd-4aad-a797-533997c03158",
   "metadata": {
    "tags": []
   },
   "outputs": [],
   "source": [
    "BUFFER_SIZE = 8000 #larger than total tweets\n",
    "BATCH_SIZE = 64\n",
    "\n",
    "#batch and shuffle training dataset\n",
    "train_ds = train_ds.shuffle(BUFFER_SIZE).batch(BATCH_SIZE).prefetch(tf.data.AUTOTUNE)\n",
    "val_ds = val_ds.shuffle(BUFFER_SIZE).batch(BATCH_SIZE).prefetch(tf.data.AUTOTUNE)\n"
   ]
  },
  {
   "cell_type": "code",
   "execution_count": 15,
   "id": "05ba1288-0fcc-445e-8431-7ccd07247469",
   "metadata": {
    "tags": []
   },
   "outputs": [
    {
     "name": "stdout",
     "output_type": "stream",
     "text": [
      "texts:  [b'floods_Nearly 50 thousand people affected by floods in #Paraguay ?  _North America'\n",
      " b'accident_8/6/2015@2:09 PM: TRAFFIC ACCIDENT NO INJURY at 2781 WILLIS FOREMAN RD _'\n",
      " b'refugees_A Turkish couple spent their wedding day feeding 4000 Syrian refugees  ? A Turkish couple who got marrie \\xc2\\x89\\xc3\\x9b_ _']\n",
      "\n",
      "labels:  [1 1 0]\n"
     ]
    }
   ],
   "source": [
    "#confirm the dataset has been created and batched correctly\n",
    "\n",
    "for example, label in train_ds.take(1):\n",
    "  print('texts: ', example.numpy()[:3])\n",
    "  print()\n",
    "  print('labels: ', label.numpy()[:3])\n"
   ]
  },
  {
   "cell_type": "markdown",
   "id": "10c8f1ff-09c3-4dac-b08a-5c8dc9cc6bd1",
   "metadata": {},
   "source": [
    "## Vectorizing the Text Data\n",
    "\n",
    "In order for our neural network to learn from our text dataset we must vectorize it. Vectorizing allows us to transform our string data to a vector of integers which is digestible to neural networks.\n",
    "\n",
    "We will be using the TextVectorization layer provided by Keras which automates a lot of the preprocessing tasks with the following parameters:\n",
    "\n",
    "**standardize** : lower_and_strip_punctuation (default)\n",
    "\n",
    "The default standardize parameter automatically transforms all text to lowercase and strips punctuation.\n",
    "\n",
    "**split**: whitespace (default)\n",
    "\n",
    "The default whitespace parameter will transform the string into a list of tokens by splitting on whitespace.\n",
    "\n",
    "**max_tokens**: 15,000\n",
    "\n",
    "The max_tokens size corresponds to the total size of the vocabulary of token ngrams created by the vectorizing layer. Token ngrams that are less common will be replaced with a general \"unknown\" token to denote that the token is outside of the vocabulary created by the layer.\n",
    "\n",
    "### A note on Embedding Layers\n",
    "\n",
    "After vectorizing our text we will feed the created vectors to an embedding layer provided by Keras. The Embedding layer will transform the sparse bag-of-words vectors created by the text vectorization layer to a dense vector. This imbues each token ngram with potentially more information for the model to learn from. The embedding layer will train along with the rest of the model to position similar token vectors together. "
   ]
  },
  {
   "cell_type": "code",
   "execution_count": 16,
   "id": "3d6063a0-a572-4be7-9db0-9c09dfe8edba",
   "metadata": {
    "tags": []
   },
   "outputs": [],
   "source": [
    "vocab_size = 15000 #max size of vocabulary\n",
    "\n",
    "encoder = TextVectorization(max_tokens=vocab_size)\n",
    "\n",
    "#adapt the text vectorization layer to full content of tweets\n",
    "encoder.adapt(train_ds.map(lambda text, label: text))\n"
   ]
  },
  {
   "cell_type": "code",
   "execution_count": 17,
   "id": "fa9b58e5-da7b-4dce-9518-d88bd51410f9",
   "metadata": {
    "tags": []
   },
   "outputs": [
    {
     "name": "stdout",
     "output_type": "stream",
     "text": [
      "encoded texts:  [[    1  2739  3431  1447   719   276     3   301  3988   178     0     0\n",
      "      0     0     0     0     0     0     0     0     0     0     0     0\n",
      "      0     0     0     0     0]\n",
      " [ 7876  2287 12314 10004     6    33   132    38  7866   204    31    71\n",
      "      0     0     0     0     0     0     0     0     0     0     0     0\n",
      "      0     0     0     0     0]\n",
      " [ 9682     2   706  2176   132    55     9    18     9 13550  7368     8\n",
      "    103 14567     0     0     0     0     0     0     0     0     0     0\n",
      "      0     0     0     0     0]]\n",
      "\n",
      "labels:  [1 0 0]\n"
     ]
    }
   ],
   "source": [
    "#Confirm encoder correctly vectorizes the text\n",
    "\n",
    "for example, label in train_ds.take(1):\n",
    "    example = encoder(example)\n",
    "    print('encoded texts: ', example.numpy()[:3])\n",
    "    print('')\n",
    "    print('labels: ', label.numpy()[:3])"
   ]
  },
  {
   "cell_type": "markdown",
   "id": "13caa4b9-7781-463f-a3d8-308b5cb80a5e",
   "metadata": {},
   "source": [
    "## Evaluating RNN for Classification Task\n",
    "\n",
    "We will be looking at 3 different types of RNNs for this classification problem: Long Short-Term Memory (LSTM), Bidirectional LSTM, and Gated Recurrent Units (GRUs.) \n",
    "\n",
    "The Kaggle competition evaluates models based on the F1 Score. \n",
    "\n",
    "Unfortunately, there is currently an error when attempting to evaluate Keras's provided F1 Score during model fit so it is necessary to manually calculate the f1 score ourselves and provide it to the metrics for our models when training. This will give us an idea of possible F1 Scores during training and we will calculate a final F1 score on the validation data afterwards for comparison."
   ]
  },
  {
   "cell_type": "code",
   "execution_count": 18,
   "id": "e25584eb-e20e-4588-80b8-9ed226ee3fa2",
   "metadata": {
    "tags": []
   },
   "outputs": [],
   "source": [
    "def f1_score(y_true, y_pred): \n",
    "    \"\"\"\n",
    "    Custom f1_score that is compatible with text classification\n",
    "    problems in Keras. Credit to Aakash Goel\n",
    "    https://aakashgoel12.medium.com/how-to-add-user-defined-function-get-f1-score-in-keras-metrics-3013f979ce0d\n",
    "    \"\"\"\n",
    "    true_positives = K.sum(K.round(K.clip(y_true * y_pred, 0, 1)))\n",
    "    possible_positives = K.sum(K.round(K.clip(y_true, 0, 1)))\n",
    "    predicted_positives = K.sum(K.round(K.clip(y_pred, 0, 1)))\n",
    "    precision = true_positives / (predicted_positives + K.epsilon())\n",
    "    recall = true_positives / (possible_positives + K.epsilon())\n",
    "    f1_val = 2*(precision*recall)/(precision+recall+K.epsilon())\n",
    "    return f1_val\n",
    "\n",
    "\n",
    "callback = EarlyStopping(patience=3, #early stopping if val_loss worsens <patience> number of times.\n",
    "                        restore_best_weights=True) #restores the weights from the best iteration during training\n"
   ]
  },
  {
   "cell_type": "markdown",
   "id": "a5a97959-71ed-4c87-92e4-3aedebe900cd",
   "metadata": {},
   "source": [
    "## Building a Simple LSTM Classifier"
   ]
  },
  {
   "cell_type": "code",
   "execution_count": 19,
   "id": "5ddb3e28-b3a6-4503-b86d-d506f67a7cd8",
   "metadata": {
    "tags": []
   },
   "outputs": [
    {
     "name": "stdout",
     "output_type": "stream",
     "text": [
      "Model: \"simple_LSTM\"\n",
      "_________________________________________________________________\n",
      " Layer (type)                Output Shape              Param #   \n",
      "=================================================================\n",
      " text_vectorization (TextVe  (None, None)              0         \n",
      " ctorization)                                                    \n",
      "                                                                 \n",
      " embedding (Embedding)       (None, None, 64)          960000    \n",
      "                                                                 \n",
      " lstm (LSTM)                 (None, None, 128)         98816     \n",
      "                                                                 \n",
      " lstm_1 (LSTM)               (None, 128)               131584    \n",
      "                                                                 \n",
      " dense (Dense)               (None, 128)               16512     \n",
      "                                                                 \n",
      " dropout (Dropout)           (None, 128)               0         \n",
      "                                                                 \n",
      " dense_1 (Dense)             (None, 64)                8256      \n",
      "                                                                 \n",
      " dense_2 (Dense)             (None, 1)                 65        \n",
      "                                                                 \n",
      "=================================================================\n",
      "Total params: 1215233 (4.64 MB)\n",
      "Trainable params: 1215233 (4.64 MB)\n",
      "Non-trainable params: 0 (0.00 Byte)\n",
      "_________________________________________________________________\n"
     ]
    }
   ],
   "source": [
    "simple_lstm = Sequential(name='simple_LSTM')\n",
    "simple_lstm.add(encoder) #add vectorizer layer to model\n",
    "simple_lstm.add(Embedding(input_dim=vocab_size, \n",
    "                     output_dim=64, \n",
    "                     mask_zero=True)) #Masking zero allows for the model to handle varying sequence length\n",
    "simple_lstm.add(LSTM(128,\n",
    "                     dropout=.2,\n",
    "                     recurrent_dropout=.1,\n",
    "                     return_sequences=True))\n",
    "simple_lstm.add(LSTM(128,\n",
    "                     dropout=.2,\n",
    "                    recurrent_dropout=.1))\n",
    "simple_lstm.add(Dense(128, activation='relu'))\n",
    "simple_lstm.add(Dropout(.2))\n",
    "simple_lstm.add(Dense(64, activation='relu'))\n",
    "simple_lstm.add(Dense(1, activation='sigmoid'))\n",
    "\n",
    "simple_lstm.summary()"
   ]
  },
  {
   "cell_type": "markdown",
   "id": "e1cb33fc-c288-4a3e-ac6d-cd93b6f1a71f",
   "metadata": {},
   "source": [
    "For the LSTM model we start with the standard preprocessing text vectorization and embedding layers before moving to two LSTM layers of 128 units. Both LSTM layers include a dropout and recurrent_dropout parameter which provides dropout for the final activation and while calculating the recurrent state accordingly. Dropout parameters and layers help to prevent overfitting and allow the model to generalize better. \n",
    "\n",
    "After the LSTM layers we move into 2 hidden dense layers, separated by another dropout layer, before proceeding to the final single unit dense layer with a sigmoid activation function. The final layer will calculate a value between 0 and 1 which represents the probability that the ingested tweet is about a real disaster (1) or not (0)."
   ]
  },
  {
   "cell_type": "code",
   "execution_count": 20,
   "id": "aa35afd4-d9ef-46dd-ac66-dfbf629ecf77",
   "metadata": {
    "tags": []
   },
   "outputs": [],
   "source": [
    "opt = Adam(learning_rate=0.001)\n",
    "\n",
    "simple_lstm.compile(loss='binary_crossentropy',\n",
    "              optimizer=opt,\n",
    "              metrics=[f1_score])\n"
   ]
  },
  {
   "cell_type": "code",
   "execution_count": 21,
   "id": "8b3c3331-05b5-4737-bec4-d1dc6bac34ce",
   "metadata": {
    "tags": []
   },
   "outputs": [
    {
     "name": "stdout",
     "output_type": "stream",
     "text": [
      "Epoch 1/30\n",
      "95/95 [==============================] - 13s 72ms/step - loss: 0.5676 - f1_score: 0.4840 - val_loss: 0.5454 - val_f1_score: 0.5556\n",
      "Epoch 2/30\n",
      "95/95 [==============================] - 6s 64ms/step - loss: 0.3157 - f1_score: 0.8431 - val_loss: 0.5779 - val_f1_score: 0.6885\n",
      "Epoch 3/30\n",
      "95/95 [==============================] - 6s 64ms/step - loss: 0.1768 - f1_score: 0.9266 - val_loss: 0.6287 - val_f1_score: 0.5294\n",
      "Epoch 4/30\n",
      "95/95 [==============================] - 6s 67ms/step - loss: 0.1144 - f1_score: 0.9564 - val_loss: 0.7655 - val_f1_score: 0.7059\n"
     ]
    }
   ],
   "source": [
    "#Train the model\n",
    "simple_lstm_history = simple_lstm.fit(train_ds, epochs=30,\n",
    "                    validation_data=val_ds,\n",
    "                    validation_steps=1,\n",
    "                    callbacks=[callback],\n",
    "                    verbose=1)\n"
   ]
  },
  {
   "cell_type": "code",
   "execution_count": 22,
   "id": "c618a7f0-9ddc-4352-b6de-489758b3aa8f",
   "metadata": {
    "tags": []
   },
   "outputs": [
    {
     "data": {
      "text/plain": [
       "<matplotlib.legend.Legend at 0x1591a2350>"
      ]
     },
     "execution_count": 22,
     "metadata": {},
     "output_type": "execute_result"
    },
    {
     "data": {
      "image/png": "[encoded data removed]",
      "text/plain": [
       "<Figure size 640x480 with 1 Axes>"
      ]
     },
     "metadata": {},
     "output_type": "display_data"
    }
   ],
   "source": [
    "plt.plot(simple_lstm_history.history['f1_score'], label='F1 Score')\n",
    "plt.plot(simple_lstm_history.history['val_f1_score'], label = 'Val F1 Score')\n",
    "plt.title('Simple LSTM F1 Score')\n",
    "plt.xlabel('Epoch')\n",
    "plt.ylabel('F1 Score')\n",
    "plt.ylim([0.5, 1])\n",
    "plt.legend(loc='lower right')\n"
   ]
  },
  {
   "cell_type": "code",
   "execution_count": 23,
   "id": "933221b5-732f-42b0-b04d-83f97ff75973",
   "metadata": {
    "tags": []
   },
   "outputs": [
    {
     "data": {
      "text/plain": [
       "<matplotlib.legend.Legend at 0x159cdcdd0>"
      ]
     },
     "execution_count": 23,
     "metadata": {},
     "output_type": "execute_result"
    },
    {
     "data": {
      "image/png": "[encoded data removed]",
      "text/plain": [
       "<Figure size 640x480 with 1 Axes>"
      ]
     },
     "metadata": {},
     "output_type": "display_data"
    }
   ],
   "source": [
    "plt.plot(simple_lstm_history.history['loss'], label='Loss')\n",
    "plt.plot(simple_lstm_history.history['val_loss'], label = 'Val Loss')\n",
    "plt.title('Simple LSTM Loss')\n",
    "plt.xlabel('Epoch')\n",
    "plt.ylabel('Loss')\n",
    "plt.legend(loc='lower left')"
   ]
  },
  {
   "cell_type": "markdown",
   "id": "ede6d1e5-bb0d-474f-be4a-95a9e35027e3",
   "metadata": {},
   "source": [
    "Based on the plots above we can see some classic overfitting: the training loss continues to decrease while the validation loss begins to increase as the model becomes better at predicting against the training data and worse at making generalizations with data it was not trained on. \n",
    "\n",
    "We use early stopping in order to minimize the damage overfitting does as much as possible."
   ]
  },
  {
   "cell_type": "markdown",
   "id": "52e98380-c3d1-40ca-97cc-ac3e6fe33651",
   "metadata": {},
   "source": [
    "## Using Bidirectional LSTM"
   ]
  },
  {
   "cell_type": "code",
   "execution_count": 24,
   "id": "920d8d36-c43c-4533-b937-49cf137dafbd",
   "metadata": {
    "tags": []
   },
   "outputs": [
    {
     "name": "stdout",
     "output_type": "stream",
     "text": [
      "Model: \"bi_LSTM\"\n",
      "_________________________________________________________________\n",
      " Layer (type)                Output Shape              Param #   \n",
      "=================================================================\n",
      " text_vectorization (TextVe  (None, None)              0         \n",
      " ctorization)                                                    \n",
      "                                                                 \n",
      " embedding_1 (Embedding)     (None, None, 64)          960000    \n",
      "                                                                 \n",
      " bidirectional (Bidirection  (None, None, 256)         197632    \n",
      " al)                                                             \n",
      "                                                                 \n",
      " bidirectional_1 (Bidirecti  (None, 128)               164352    \n",
      " onal)                                                           \n",
      "                                                                 \n",
      " dense_3 (Dense)             (None, 128)               16512     \n",
      "                                                                 \n",
      " dropout_1 (Dropout)         (None, 128)               0         \n",
      "                                                                 \n",
      " dense_4 (Dense)             (None, 64)                8256      \n",
      "                                                                 \n",
      " dense_5 (Dense)             (None, 1)                 65        \n",
      "                                                                 \n",
      "=================================================================\n",
      "Total params: 1346817 (5.14 MB)\n",
      "Trainable params: 1346817 (5.14 MB)\n",
      "Non-trainable params: 0 (0.00 Byte)\n",
      "_________________________________________________________________\n"
     ]
    }
   ],
   "source": [
    "bi_lstm = Sequential(name='bi_LSTM')\n",
    "bi_lstm.add(encoder) #add vectorizer layer to model\n",
    "bi_lstm.add(Embedding(input_dim=vocab_size, \n",
    "                     output_dim=64, \n",
    "                     mask_zero=True)) #Masking zero allows for the model to handle varying sequence length\n",
    "bi_lstm.add(Bidirectional(LSTM(128,\n",
    "                               dropout=.2,\n",
    "                               recurrent_dropout=.1,\n",
    "                               return_sequences=True)))\n",
    "bi_lstm.add(Bidirectional(LSTM(64,\n",
    "                              dropout=.2,\n",
    "                              recurrent_dropout=.1)))\n",
    "bi_lstm.add(Dense(128, activation='relu'))\n",
    "bi_lstm.add(Dropout(.2))\n",
    "bi_lstm.add(Dense(64, activation='relu'))\n",
    "bi_lstm.add(Dense(1, activation='sigmoid'))\n",
    "\n",
    "bi_lstm.summary()"
   ]
  },
  {
   "cell_type": "markdown",
   "id": "09907618-c849-43db-84d1-53f4cae805ba",
   "metadata": {},
   "source": [
    "The second model we will look at is a Bidirectional LSTM model. The Bidirectional wrapper on the LSTM layer allows the LSTM to take into account both t-1 and t+1 when learning the data. Including the tokens before and after each token may provide the model with more information to learn from and produce more accurate results. Similarly to the first model, we will use dropout layers and recurrent_dropouts in order to help it generalize.\n",
    "\n",
    "While the Bidirectional LSTM layers allow for more information to be processed, it also effectively doubles the number of calculations to make which can result in slowdown during the training process."
   ]
  },
  {
   "cell_type": "code",
   "execution_count": 25,
   "id": "68528f4b-eb8a-40cd-a272-5cabc0ba5d88",
   "metadata": {
    "tags": []
   },
   "outputs": [],
   "source": [
    "opt = Adam(learning_rate=0.001)\n",
    "\n",
    "bi_lstm.compile(loss='binary_crossentropy',\n",
    "              optimizer=opt,\n",
    "              metrics=[f1_score])"
   ]
  },
  {
   "cell_type": "code",
   "execution_count": 26,
   "id": "1a6b3296-6873-47cc-998f-9f233d8dcefc",
   "metadata": {
    "tags": []
   },
   "outputs": [
    {
     "name": "stdout",
     "output_type": "stream",
     "text": [
      "Epoch 1/30\n",
      "95/95 [==============================] - 23s 126ms/step - loss: 0.5626 - f1_score: 0.4785 - val_loss: 0.5919 - val_f1_score: 0.5957\n",
      "Epoch 2/30\n",
      "95/95 [==============================] - 11s 112ms/step - loss: 0.2967 - f1_score: 0.8536 - val_loss: 0.5904 - val_f1_score: 0.6087\n",
      "Epoch 3/30\n",
      "95/95 [==============================] - 11s 115ms/step - loss: 0.1528 - f1_score: 0.9368 - val_loss: 0.5721 - val_f1_score: 0.6522\n",
      "Epoch 4/30\n",
      "95/95 [==============================] - 11s 112ms/step - loss: 0.0921 - f1_score: 0.9616 - val_loss: 0.7753 - val_f1_score: 0.6250\n",
      "Epoch 5/30\n",
      "95/95 [==============================] - 11s 111ms/step - loss: 0.0632 - f1_score: 0.9746 - val_loss: 0.8233 - val_f1_score: 0.7857\n",
      "Epoch 6/30\n",
      "95/95 [==============================] - 11s 114ms/step - loss: 0.0549 - f1_score: 0.9804 - val_loss: 1.0148 - val_f1_score: 0.5714\n"
     ]
    }
   ],
   "source": [
    "bi_lstm_history = bi_lstm.fit(train_ds, epochs=30,\n",
    "                    validation_data=val_ds,\n",
    "                    validation_steps=1,\n",
    "                    callbacks=[callback],\n",
    "                    verbose=1)\n"
   ]
  },
  {
   "cell_type": "code",
   "execution_count": 27,
   "id": "b48dd308-8929-4542-963a-f46127e7a530",
   "metadata": {
    "tags": []
   },
   "outputs": [
    {
     "data": {
      "text/plain": [
       "<matplotlib.legend.Legend at 0x15ae5a350>"
      ]
     },
     "execution_count": 27,
     "metadata": {},
     "output_type": "execute_result"
    },
    {
     "data": {
      "image/png": "[encoded data removed]",
      "text/plain": [
       "<Figure size 640x480 with 1 Axes>"
      ]
     },
     "metadata": {},
     "output_type": "display_data"
    }
   ],
   "source": [
    "plt.plot(bi_lstm_history.history['f1_score'], label='F1 Score')\n",
    "plt.plot(bi_lstm_history.history['val_f1_score'], label = 'Val F1 Score')\n",
    "plt.title(\"Bidirectional LSTM F1 Score\")\n",
    "plt.xlabel('Epoch')\n",
    "plt.ylabel('F1 Score')\n",
    "plt.ylim([0.5, 1])\n",
    "plt.legend(loc='lower right')\n"
   ]
  },
  {
   "cell_type": "code",
   "execution_count": 28,
   "id": "fa815656-8bba-479a-9655-31b480c25c05",
   "metadata": {
    "tags": []
   },
   "outputs": [
    {
     "data": {
      "text/plain": [
       "<matplotlib.legend.Legend at 0x15ca74dd0>"
      ]
     },
     "execution_count": 28,
     "metadata": {},
     "output_type": "execute_result"
    },
    {
     "data": {
      "image/png": "[encoded data removed]",
      "text/plain": [
       "<Figure size 640x480 with 1 Axes>"
      ]
     },
     "metadata": {},
     "output_type": "display_data"
    }
   ],
   "source": [
    "plt.plot(bi_lstm_history.history['loss'], label='Loss')\n",
    "plt.plot(bi_lstm_history.history['val_loss'], label = 'Val Loss')\n",
    "plt.xlabel('Epoch')\n",
    "plt.title(\"Bidirectional LSTM Loss\")\n",
    "plt.ylabel('Loss')\n",
    "plt.legend(loc='lower left')"
   ]
  },
  {
   "cell_type": "markdown",
   "id": "807c6859-3919-4fce-9c18-c0a45e9ee556",
   "metadata": {},
   "source": [
    "We can see that the bidirectional model is also affected by overfitting but maintains similar results to the simple LSTM model."
   ]
  },
  {
   "cell_type": "markdown",
   "id": "6e913e01-6956-49d1-8973-e46b4d707279",
   "metadata": {},
   "source": [
    "## Using Gated Recurrent Units (GRUs)"
   ]
  },
  {
   "cell_type": "code",
   "execution_count": 29,
   "id": "d2ec09da-ca2b-4059-ae77-37bc653ff2c7",
   "metadata": {
    "tags": []
   },
   "outputs": [
    {
     "name": "stdout",
     "output_type": "stream",
     "text": [
      "Model: \"GRU\"\n",
      "_________________________________________________________________\n",
      " Layer (type)                Output Shape              Param #   \n",
      "=================================================================\n",
      " text_vectorization (TextVe  (None, None)              0         \n",
      " ctorization)                                                    \n",
      "                                                                 \n",
      " embedding_2 (Embedding)     (None, None, 64)          960000    \n",
      "                                                                 \n",
      " gru (GRU)                   (None, None, 128)         74496     \n",
      "                                                                 \n",
      " gru_1 (GRU)                 (None, 64)                37248     \n",
      "                                                                 \n",
      " dense_6 (Dense)             (None, 128)               8320      \n",
      "                                                                 \n",
      " dropout_2 (Dropout)         (None, 128)               0         \n",
      "                                                                 \n",
      " dense_7 (Dense)             (None, 64)                8256      \n",
      "                                                                 \n",
      " dense_8 (Dense)             (None, 1)                 65        \n",
      "                                                                 \n",
      "=================================================================\n",
      "Total params: 1088385 (4.15 MB)\n",
      "Trainable params: 1088385 (4.15 MB)\n",
      "Non-trainable params: 0 (0.00 Byte)\n",
      "_________________________________________________________________\n"
     ]
    }
   ],
   "source": [
    "gru = Sequential(name='GRU')\n",
    "gru.add(encoder) #add vectorizer layer to model\n",
    "gru.add(Embedding(input_dim=vocab_size, \n",
    "                     output_dim=64, \n",
    "                     mask_zero=True)) #Masking zero allows for the model to handle varying sequence length\n",
    "gru.add(GRU(128, \n",
    "            dropout=.2,\n",
    "            recurrent_dropout=.1,\n",
    "            return_sequences=True))\n",
    "gru.add(GRU(64,\n",
    "           dropout=.1,\n",
    "           recurrent_dropout=.1))\n",
    "gru.add(Dense(128, activation='relu'))\n",
    "gru.add(Dropout(.2))\n",
    "gru.add(Dense(64, activation='relu'))\n",
    "gru.add(Dense(1, activation='sigmoid'))\n",
    "\n",
    "gru.summary()"
   ]
  },
  {
   "cell_type": "markdown",
   "id": "f8768794-995b-4947-9fa4-76d688444a12",
   "metadata": {},
   "source": [
    "Gated Recurrent Units (GRUs) allow for the processing of time series data like LSTM with less overhead. We can employ a similar architecture with two GRU units followed by Dense layers with dropouts to help with generalization. "
   ]
  },
  {
   "cell_type": "code",
   "execution_count": 30,
   "id": "965def73-26ef-409a-ba05-45f08da34204",
   "metadata": {
    "tags": []
   },
   "outputs": [],
   "source": [
    "opt = Adam(learning_rate=0.001)\n",
    "\n",
    "gru.compile(loss='binary_crossentropy',\n",
    "              optimizer=opt,\n",
    "              metrics=[f1_score])"
   ]
  },
  {
   "cell_type": "code",
   "execution_count": 31,
   "id": "2f9638e6-72db-4779-9793-26d59b8d54ce",
   "metadata": {
    "tags": []
   },
   "outputs": [
    {
     "name": "stdout",
     "output_type": "stream",
     "text": [
      "Epoch 1/30\n",
      "95/95 [==============================] - 9s 50ms/step - loss: 0.5740 - f1_score: 0.4361 - val_loss: 0.5404 - val_f1_score: 0.6667\n",
      "Epoch 2/30\n",
      "95/95 [==============================] - 4s 44ms/step - loss: 0.3260 - f1_score: 0.8342 - val_loss: 0.5442 - val_f1_score: 0.6531\n",
      "Epoch 3/30\n",
      "95/95 [==============================] - 4s 46ms/step - loss: 0.1776 - f1_score: 0.9237 - val_loss: 0.5619 - val_f1_score: 0.6190\n",
      "Epoch 4/30\n",
      "95/95 [==============================] - 4s 45ms/step - loss: 0.0993 - f1_score: 0.9608 - val_loss: 0.6287 - val_f1_score: 0.6923\n"
     ]
    }
   ],
   "source": [
    "gru_history = gru.fit(train_ds, epochs=30,\n",
    "                    validation_data=val_ds,\n",
    "                    validation_steps=1,\n",
    "                    callbacks=[callback],\n",
    "                    verbose=1)\n"
   ]
  },
  {
   "cell_type": "code",
   "execution_count": 32,
   "id": "2af6894b-d487-4bf1-ae67-d0b172bc5251",
   "metadata": {
    "tags": []
   },
   "outputs": [
    {
     "data": {
      "text/plain": [
       "<matplotlib.legend.Legend at 0x15ccf2350>"
      ]
     },
     "execution_count": 32,
     "metadata": {},
     "output_type": "execute_result"
    },
    {
     "data": {
      "image/png": "[encoded data removed]",
      "text/plain": [
       "<Figure size 640x480 with 1 Axes>"
      ]
     },
     "metadata": {},
     "output_type": "display_data"
    }
   ],
   "source": [
    "plt.plot(gru_history.history['f1_score'], label='F1 Score')\n",
    "plt.plot(gru_history.history['val_f1_score'], label = 'Val F1 Score')\n",
    "plt.title('GRU F1 Score')\n",
    "plt.xlabel('Epoch')\n",
    "plt.ylabel('F1 Score')\n",
    "plt.ylim([0.5, 1])\n",
    "plt.legend(loc='lower right')"
   ]
  },
  {
   "cell_type": "code",
   "execution_count": 33,
   "id": "d0bbcc5d-adb3-4e58-b58d-f628eb900aae",
   "metadata": {
    "tags": []
   },
   "outputs": [
    {
     "data": {
      "text/plain": [
       "<matplotlib.legend.Legend at 0x15d90cdd0>"
      ]
     },
     "execution_count": 33,
     "metadata": {},
     "output_type": "execute_result"
    },
    {
     "data": {
      "image/png": "[encoded data removed]",
      "text/plain": [
       "<Figure size 640x480 with 1 Axes>"
      ]
     },
     "metadata": {},
     "output_type": "display_data"
    }
   ],
   "source": [
    "plt.plot(gru_history.history['loss'], label='Loss')\n",
    "plt.plot(gru_history.history['val_loss'], label = 'Val Loss')\n",
    "plt.title('GRU Loss')\n",
    "plt.xlabel('Epoch')\n",
    "plt.ylabel('Loss')\n",
    "plt.legend(loc='lower left')"
   ]
  },
  {
   "cell_type": "markdown",
   "id": "f14264e8-94e6-47d8-8b2c-40e567149f39",
   "metadata": {},
   "source": [
    "As with the other Recurrent Neural Networks, the GRU model also experiences overfitting that must be fought against with early stopping. \n",
    "\n",
    "We can see that the model appears to maintain similar performance as the other two networks during training however the time spent to train is significantly reduced which is a great benefit to this architecture."
   ]
  },
  {
   "cell_type": "markdown",
   "id": "86332cef-536b-4521-9007-bf433657d909",
   "metadata": {},
   "source": [
    "## Comparing Models"
   ]
  },
  {
   "cell_type": "code",
   "execution_count": 34,
   "id": "5dfb4a97-d1c7-4b16-b315-55bcc61ad3c3",
   "metadata": {},
   "outputs": [
    {
     "name": "stdout",
     "output_type": "stream",
     "text": [
      "48/48 [==============================] - 1s 10ms/step\n"
     ]
    },
    {
     "data": {
      "text/html": [
       "<div>\n",
       "<style scoped>\n",
       "    .dataframe tbody tr th:only-of-type {\n",
       "        vertical-align: middle;\n",
       "    }\n",
       "\n",
       "    .dataframe tbody tr th {\n",
       "        vertical-align: top;\n",
       "    }\n",
       "\n",
       "    .dataframe thead th {\n",
       "        text-align: right;\n",
       "    }\n",
       "</style>\n",
       "<table border=\"1\" class=\"dataframe\">\n",
       "  <thead>\n",
       "    <tr style=\"text-align: right;\">\n",
       "      <th></th>\n",
       "      <th>Accuracy</th>\n",
       "      <th>Precision</th>\n",
       "      <th>Recall</th>\n",
       "      <th>F1_Score</th>\n",
       "    </tr>\n",
       "  </thead>\n",
       "  <tbody>\n",
       "    <tr>\n",
       "      <th>Simple_LSTM</th>\n",
       "      <td>0.778954</td>\n",
       "      <td>0.875895</td>\n",
       "      <td>0.565485</td>\n",
       "      <td>0.687266</td>\n",
       "    </tr>\n",
       "  </tbody>\n",
       "</table>\n",
       "</div>"
      ],
      "text/plain": [
       "             Accuracy  Precision    Recall  F1_Score\n",
       "Simple_LSTM  0.778954   0.875895  0.565485  0.687266"
      ]
     },
     "execution_count": 34,
     "metadata": {},
     "output_type": "execute_result"
    }
   ],
   "source": [
    "#Predict\n",
    "y_prediction = simple_lstm.predict(X_val)\n",
    "y_prediction = np.where(y_prediction > .5, 1, 0)\n",
    "\n",
    "#Create confusion matrix\n",
    "lstm_conf = confusion_matrix(y_val, y_prediction)\n",
    "\n",
    "\n",
    "precision = precision_score(y_val, y_prediction)\n",
    "recall = recall_score(y_val, y_prediction)\n",
    "accuracy = accuracy_score(y_val, y_prediction)\n",
    "f1_score = sklearn.metrics.f1_score(y_val, y_prediction)\n",
    "\n",
    "metrics = pd.DataFrame(columns=[\"Accuracy\", \"Precision\", \"Recall\", \"F1_Score\"])\n",
    "\n",
    "metrics.loc['Simple_LSTM'] = [accuracy, precision, recall, f1_score]\n",
    "\n",
    "metrics"
   ]
  },
  {
   "cell_type": "code",
   "execution_count": 35,
   "id": "5f830d5d-c05d-49cc-9ef1-d29be6e20935",
   "metadata": {
    "tags": []
   },
   "outputs": [
    {
     "data": {
      "text/plain": [
       "[Text(0.5, 1.0, 'Simple LSTM Confusion Matrix'),\n",
       " Text(0.5, 23.52222222222222, 'True Label'),\n",
       " Text(50.722222222222214, 0.5, 'Predicted Label')]"
      ]
     },
     "execution_count": 35,
     "metadata": {},
     "output_type": "execute_result"
    },
    {
     "data": {
      "image/png": "[encoded data removed]",
      "text/plain": [
       "<Figure size 640x480 with 2 Axes>"
      ]
     },
     "metadata": {},
     "output_type": "display_data"
    }
   ],
   "source": [
    "sns.heatmap(lstm_conf, annot=True, fmt='1g').set(\n",
    "    title='Simple LSTM Confusion Matrix',\n",
    "    xlabel = 'True Label',\n",
    "    ylabel = 'Predicted Label'\n",
    ")\n"
   ]
  },
  {
   "cell_type": "code",
   "execution_count": 36,
   "id": "0d750d8e-5ebd-46bb-806d-8395731252b5",
   "metadata": {},
   "outputs": [
    {
     "name": "stdout",
     "output_type": "stream",
     "text": [
      "48/48 [==============================] - 2s 13ms/step\n"
     ]
    },
    {
     "data": {
      "text/html": [
       "<div>\n",
       "<style scoped>\n",
       "    .dataframe tbody tr th:only-of-type {\n",
       "        vertical-align: middle;\n",
       "    }\n",
       "\n",
       "    .dataframe tbody tr th {\n",
       "        vertical-align: top;\n",
       "    }\n",
       "\n",
       "    .dataframe thead th {\n",
       "        text-align: right;\n",
       "    }\n",
       "</style>\n",
       "<table border=\"1\" class=\"dataframe\">\n",
       "  <thead>\n",
       "    <tr style=\"text-align: right;\">\n",
       "      <th></th>\n",
       "      <th>Accuracy</th>\n",
       "      <th>Precision</th>\n",
       "      <th>Recall</th>\n",
       "      <th>F1_Score</th>\n",
       "    </tr>\n",
       "  </thead>\n",
       "  <tbody>\n",
       "    <tr>\n",
       "      <th>Simple_LSTM</th>\n",
       "      <td>0.778954</td>\n",
       "      <td>0.875895</td>\n",
       "      <td>0.565485</td>\n",
       "      <td>0.687266</td>\n",
       "    </tr>\n",
       "    <tr>\n",
       "      <th>Bidirectional_LSTM</th>\n",
       "      <td>0.749835</td>\n",
       "      <td>0.717496</td>\n",
       "      <td>0.688752</td>\n",
       "      <td>0.702830</td>\n",
       "    </tr>\n",
       "  </tbody>\n",
       "</table>\n",
       "</div>"
      ],
      "text/plain": [
       "                    Accuracy  Precision    Recall  F1_Score\n",
       "Simple_LSTM         0.778954   0.875895  0.565485  0.687266\n",
       "Bidirectional_LSTM  0.749835   0.717496  0.688752  0.702830"
      ]
     },
     "execution_count": 36,
     "metadata": {},
     "output_type": "execute_result"
    }
   ],
   "source": [
    "#Predict\n",
    "y_prediction = bi_lstm.predict(X_val)\n",
    "y_prediction = np.where(y_prediction > .5, 1, 0)\n",
    "\n",
    "\n",
    "#Create confusion matrix\n",
    "bi_conf = confusion_matrix(y_val, y_prediction)\n",
    "\n",
    "precision = precision_score(y_val, y_prediction)\n",
    "recall = recall_score(y_val, y_prediction)\n",
    "accuracy = accuracy_score(y_val, y_prediction)\n",
    "f1_score = sklearn.metrics.f1_score(y_val, y_prediction)\n",
    "\n",
    "metrics.loc['Bidirectional_LSTM'] = [accuracy, precision, recall, f1_score]\n",
    "\n",
    "metrics"
   ]
  },
  {
   "cell_type": "code",
   "execution_count": 37,
   "id": "c4fd94e5-f038-4cd2-8e27-2bf8e54e220f",
   "metadata": {
    "tags": []
   },
   "outputs": [
    {
     "data": {
      "text/plain": [
       "[Text(0.5, 1.0, 'Bidirectional LSTM Confusion Matrix'),\n",
       " Text(0.5, 23.52222222222222, 'True Label'),\n",
       " Text(50.722222222222214, 0.5, 'Predicted Label')]"
      ]
     },
     "execution_count": 37,
     "metadata": {},
     "output_type": "execute_result"
    },
    {
     "data": {
      "image/png": "[encoded data removed]",
      "text/plain": [
       "<Figure size 640x480 with 2 Axes>"
      ]
     },
     "metadata": {},
     "output_type": "display_data"
    }
   ],
   "source": [
    "sns.heatmap(bi_conf, annot=True, fmt='1g').set(\n",
    "    title='Bidirectional LSTM Confusion Matrix',\n",
    "    xlabel = 'True Label',\n",
    "    ylabel = 'Predicted Label'\n",
    ")\n"
   ]
  },
  {
   "cell_type": "code",
   "execution_count": 38,
   "id": "5d02e5c0-9c90-4bbe-a412-f5bbc394937c",
   "metadata": {
    "tags": []
   },
   "outputs": [
    {
     "name": "stdout",
     "output_type": "stream",
     "text": [
      "48/48 [==============================] - 1s 6ms/step\n"
     ]
    },
    {
     "data": {
      "text/html": [
       "<div>\n",
       "<style scoped>\n",
       "    .dataframe tbody tr th:only-of-type {\n",
       "        vertical-align: middle;\n",
       "    }\n",
       "\n",
       "    .dataframe tbody tr th {\n",
       "        vertical-align: top;\n",
       "    }\n",
       "\n",
       "    .dataframe thead th {\n",
       "        text-align: right;\n",
       "    }\n",
       "</style>\n",
       "<table border=\"1\" class=\"dataframe\">\n",
       "  <thead>\n",
       "    <tr style=\"text-align: right;\">\n",
       "      <th></th>\n",
       "      <th>Accuracy</th>\n",
       "      <th>Precision</th>\n",
       "      <th>Recall</th>\n",
       "      <th>F1_Score</th>\n",
       "    </tr>\n",
       "  </thead>\n",
       "  <tbody>\n",
       "    <tr>\n",
       "      <th>Simple_LSTM</th>\n",
       "      <td>0.778954</td>\n",
       "      <td>0.875895</td>\n",
       "      <td>0.565485</td>\n",
       "      <td>0.687266</td>\n",
       "    </tr>\n",
       "    <tr>\n",
       "      <th>Bidirectional_LSTM</th>\n",
       "      <td>0.749835</td>\n",
       "      <td>0.717496</td>\n",
       "      <td>0.688752</td>\n",
       "      <td>0.702830</td>\n",
       "    </tr>\n",
       "    <tr>\n",
       "      <th>GRU</th>\n",
       "      <td>0.767042</td>\n",
       "      <td>0.879795</td>\n",
       "      <td>0.530046</td>\n",
       "      <td>0.661538</td>\n",
       "    </tr>\n",
       "  </tbody>\n",
       "</table>\n",
       "</div>"
      ],
      "text/plain": [
       "                    Accuracy  Precision    Recall  F1_Score\n",
       "Simple_LSTM         0.778954   0.875895  0.565485  0.687266\n",
       "Bidirectional_LSTM  0.749835   0.717496  0.688752  0.702830\n",
       "GRU                 0.767042   0.879795  0.530046  0.661538"
      ]
     },
     "execution_count": 38,
     "metadata": {},
     "output_type": "execute_result"
    }
   ],
   "source": [
    "#Predict\n",
    "y_prediction = gru.predict(X_val)\n",
    "y_prediction = np.where(y_prediction > .5, 1, 0)\n",
    "\n",
    "\n",
    "#Create confusion matrix\n",
    "gru_conf = confusion_matrix(y_val, y_prediction)\n",
    "\n",
    "precision = precision_score(y_val, y_prediction)\n",
    "recall = recall_score(y_val, y_prediction)\n",
    "accuracy = accuracy_score(y_val, y_prediction)\n",
    "f1_score = sklearn.metrics.f1_score(y_val, y_prediction)\n",
    "\n",
    "metrics.loc['GRU'] = [accuracy, precision, recall, f1_score]\n",
    "\n",
    "metrics\n"
   ]
  },
  {
   "cell_type": "code",
   "execution_count": 39,
   "id": "831f232a-3619-464b-bb92-cd7474c6e01e",
   "metadata": {
    "tags": []
   },
   "outputs": [
    {
     "data": {
      "text/plain": [
       "[Text(0.5, 1.0, 'GRU Confusion Matrix'),\n",
       " Text(0.5, 23.52222222222222, 'True Label'),\n",
       " Text(50.722222222222214, 0.5, 'Predicted Label')]"
      ]
     },
     "execution_count": 39,
     "metadata": {},
     "output_type": "execute_result"
    },
    {
     "data": {
      "image/png": "[encoded data removed]",
      "text/plain": [
       "<Figure size 640x480 with 2 Axes>"
      ]
     },
     "metadata": {},
     "output_type": "display_data"
    }
   ],
   "source": [
    "sns.heatmap(gru_conf, annot=True, fmt='1g').set(\n",
    "    title='GRU Confusion Matrix',\n",
    "    xlabel = 'True Label',\n",
    "    ylabel = 'Predicted Label'\n",
    ")\n"
   ]
  },
  {
   "cell_type": "markdown",
   "id": "d8dccebb-320f-4b50-a2ca-4ed8cc482ba7",
   "metadata": {},
   "source": [
    "## Improving GRU Model via Hyperparameter Tuning\n",
    "\n",
    "We can see that the models perform similarly with the simple LSTM model performing the best overall. Trial and error resulted in the above configurations for the models but we can automate finding the optimal hyperparameters using hyperparameter tuning.\n",
    "\n",
    "We will use keras's keras_tuner to perform a hyperparameter search to find the optimal configuration for our GRU model. We will use hyperparameter tuning to determine the optimal number of GRU layers and associated dropouts, Dense layers, dropout layers, and learning rate."
   ]
  },
  {
   "cell_type": "code",
   "execution_count": 53,
   "id": "43eaa419-d9ac-4caf-9677-7037b379852e",
   "metadata": {
    "tags": []
   },
   "outputs": [],
   "source": [
    "def build_model(hp):\n",
    "    \"\"\"\n",
    "    Function to tune a GRU model using the keras_tuner library\n",
    "    and conditional hyperparameters.\n",
    "    \"\"\"\n",
    "    model = Sequential(name='GRU_tuned')\n",
    "    model.add(encoder) #add vectorizer layer to model\n",
    "    model.add(Embedding(input_dim=vocab_size, \n",
    "                     output_dim=64, \n",
    "                     mask_zero=True)) #\n",
    "    \n",
    "    if hp.Boolean(\"second_GRU_layer\"):\n",
    "                \n",
    "        model.add(GRU(units=hp.Int(f\"first_GRU_units\", min_value=64, max_value=512, step=32), \n",
    "                dropout=hp.Float(\"first_GRU_dropout\",min_value=.05, max_value=.3),\n",
    "                recurrent_dropout=hp.Float(\"first_GRU_rec_dropout\", min_value=.05, max_value=.3),\n",
    "                return_sequences=True))\n",
    "\n",
    "        with hp.conditional_scope(\"second_GRU_layer\", True):\n",
    "\n",
    "            model.add(GRU(units=hp.Int(f\"second_GRU_units\", min_value=32, max_value=512, step=32),\n",
    "                   dropout=hp.Float(\"second_GRU_dropout\",min_value=.05, max_value=.3),\n",
    "                   recurrent_dropout=hp.Float(\"second_GRU_rec_dropout\",min_value=.05, max_value=.3)\n",
    "                ))\n",
    "            \n",
    "    else:\n",
    "        \n",
    "        model.add(GRU(units=hp.Int(f\"first_GRU_units\", min_value=64, max_value=512, step=32), \n",
    "                dropout=hp.Float(\"first_GRU_dropout\",min_value=.05, max_value=.3),\n",
    "                recurrent_dropout=hp.Float(\"first_GRU_rec_dropout\", min_value=.05, max_value=.3)\n",
    "                ))\n",
    "    \n",
    "    if hp.Boolean(\"first_dropout\"):\n",
    "        with hp.conditional_scope(\"first_dropout\", True):\n",
    "            model.add(Dropout(rate=hp.Float(\"first_dropout_rate\", min_value=.05, max_value=.3)))\n",
    "        \n",
    "    #Add 1-2 Dense Layers\n",
    "    for i in range(hp.Int(\"num_layers\", 1, 2)):\n",
    "        \n",
    "        if hp.Boolean(\"inter_drop\"):\n",
    "            with hp.conditional_scope(\"inter_drop\", True):\n",
    "                if i > 1: #only add dropout between dense layers\n",
    "                    model.add(Dropout(rate=hp.Float(\"inter_dropout_rate\", min_value=.05, max_value=.3)))\n",
    "                \n",
    "        model.add(\n",
    "            Dense(\n",
    "                units=hp.Int(f\"units_{i}\", min_value=32, max_value=512, step=32),\n",
    "                activation=hp.Choice(\"activation\", [\"relu\", \"tanh\"]),\n",
    "            )\n",
    "        )\n",
    "        \n",
    "    \n",
    "    if hp.Boolean(\"final_dropout\"):\n",
    "        with hp.conditional_scope(\"final_dropout\", True):\n",
    "            model.add(Dropout(rate=hp.Float(\"final_dropout_rate\", min_value=.05, max_value=.3)))\n",
    "        \n",
    "    model.add(Dense(1, activation='sigmoid'))\n",
    "    \n",
    "    # Define the optimizer learning rate as a hyperparameter.\n",
    "    learning_rate = hp.Float(\"lr\", min_value=1e-4, max_value=1e-2, sampling=\"log\")\n",
    "    \n",
    "    model.compile(\n",
    "        optimizer=Adam(learning_rate=learning_rate),\n",
    "        loss=\"binary_crossentropy\",\n",
    "        metrics=[\"accuracy\"],\n",
    "    )\n",
    "    \n",
    "    return model\n"
   ]
  },
  {
   "cell_type": "code",
   "execution_count": 54,
   "id": "7bb84563-ad3c-421e-aecf-2e8ba2156793",
   "metadata": {
    "tags": []
   },
   "outputs": [
    {
     "name": "stdout",
     "output_type": "stream",
     "text": [
      "Search space summary\n",
      "Default search space size: 11\n",
      "second_GRU_layer (Boolean)\n",
      "{'default': False, 'conditions': []}\n",
      "first_GRU_units (Int)\n",
      "{'default': None, 'conditions': [], 'min_value': 64, 'max_value': 512, 'step': 32, 'sampling': 'linear'}\n",
      "first_GRU_dropout (Float)\n",
      "{'default': 0.05, 'conditions': [], 'min_value': 0.05, 'max_value': 0.3, 'step': None, 'sampling': 'linear'}\n",
      "first_GRU_rec_dropout (Float)\n",
      "{'default': 0.05, 'conditions': [], 'min_value': 0.05, 'max_value': 0.3, 'step': None, 'sampling': 'linear'}\n",
      "first_dropout (Boolean)\n",
      "{'default': False, 'conditions': []}\n",
      "num_layers (Int)\n",
      "{'default': None, 'conditions': [], 'min_value': 1, 'max_value': 2, 'step': 1, 'sampling': 'linear'}\n",
      "inter_drop (Boolean)\n",
      "{'default': False, 'conditions': []}\n",
      "units_0 (Int)\n",
      "{'default': None, 'conditions': [], 'min_value': 32, 'max_value': 512, 'step': 32, 'sampling': 'linear'}\n",
      "activation (Choice)\n",
      "{'default': 'relu', 'conditions': [], 'values': ['relu', 'tanh'], 'ordered': False}\n",
      "final_dropout (Boolean)\n",
      "{'default': False, 'conditions': []}\n",
      "lr (Float)\n",
      "{'default': 0.0001, 'conditions': [], 'min_value': 0.0001, 'max_value': 0.01, 'step': None, 'sampling': 'log'}\n"
     ]
    }
   ],
   "source": [
    "tuner = keras_tuner.BayesianOptimization(\n",
    "    hypermodel=build_model,\n",
    "    max_trials = 20,\n",
    "    overwrite=True,\n",
    "    objective=\"val_accuracy\",\n",
    "    directory=\"./\",\n",
    "    project_name=\"gru_tuning\",\n",
    ")\n",
    "\n",
    "tuner.search_space_summary()"
   ]
  },
  {
   "cell_type": "code",
   "execution_count": 55,
   "id": "91c03f74-d53c-4883-8395-892e9ecdf156",
   "metadata": {
    "tags": []
   },
   "outputs": [
    {
     "name": "stdout",
     "output_type": "stream",
     "text": [
      "Trial 20 Complete [00h 00m 29s]\n",
      "val_accuracy: 0.7683653235435486\n",
      "\n",
      "Best val_accuracy So Far: 0.7796161770820618\n",
      "Total elapsed time: 00h 20m 24s\n"
     ]
    }
   ],
   "source": [
    "### Perform the search over the hyperparameter space\n",
    "\n",
    "tuner.search(train_ds, \n",
    "             epochs=10,\n",
    "             validation_data=val_ds,\n",
    "             callbacks=[EarlyStopping(monitor='val_accuracy', patience=1)]\n",
    "            )"
   ]
  },
  {
   "cell_type": "code",
   "execution_count": 60,
   "id": "491d703c-0e16-4d0a-b2bc-c6e2be3c58ae",
   "metadata": {
    "tags": []
   },
   "outputs": [
    {
     "name": "stdout",
     "output_type": "stream",
     "text": [
      "Results summary\n",
      "Results in ./gru_tuning\n",
      "Showing 10 best trials\n",
      "Objective(name=\"val_accuracy\", direction=\"max\")\n",
      "\n",
      "Trial 02 summary\n",
      "Hyperparameters:\n",
      "second_GRU_layer: True\n",
      "first_GRU_units: 288\n",
      "first_GRU_dropout: 0.25226363039318495\n",
      "first_GRU_rec_dropout: 0.19583929732795874\n",
      "first_dropout: False\n",
      "num_layers: 2\n",
      "inter_drop: False\n",
      "units_0: 512\n",
      "activation: relu\n",
      "final_dropout: False\n",
      "lr: 0.00044124415805296913\n",
      "units_1: 64\n",
      "second_GRU_units: 448\n",
      "second_GRU_dropout: 0.2803719916086604\n",
      "second_GRU_rec_dropout: 0.2842932500253286\n",
      "Score: 0.7796161770820618\n",
      "\n",
      "Trial 18 summary\n",
      "Hyperparameters:\n",
      "second_GRU_layer: False\n",
      "first_GRU_units: 96\n",
      "first_GRU_dropout: 0.239224120584348\n",
      "first_GRU_rec_dropout: 0.08742477392644486\n",
      "first_dropout: True\n",
      "num_layers: 2\n",
      "inter_drop: False\n",
      "units_0: 320\n",
      "activation: tanh\n",
      "final_dropout: False\n",
      "lr: 0.0002606523259860789\n",
      "first_dropout_rate: 0.23288599269090549\n",
      "units_1: 64\n",
      "Score: 0.7796161770820618\n",
      "\n",
      "Trial 17 summary\n",
      "Hyperparameters:\n",
      "second_GRU_layer: False\n",
      "first_GRU_units: 416\n",
      "first_GRU_dropout: 0.14144185285407473\n",
      "first_GRU_rec_dropout: 0.21685289334593355\n",
      "first_dropout: False\n",
      "num_layers: 2\n",
      "inter_drop: True\n",
      "units_0: 352\n",
      "activation: tanh\n",
      "final_dropout: False\n",
      "lr: 0.00018333247750722557\n",
      "units_1: 512\n",
      "Score: 0.7789543271064758\n",
      "\n",
      "Trial 07 summary\n",
      "Hyperparameters:\n",
      "second_GRU_layer: True\n",
      "first_GRU_units: 160\n",
      "first_GRU_dropout: 0.275463608477936\n",
      "first_GRU_rec_dropout: 0.165328613424649\n",
      "first_dropout: True\n",
      "num_layers: 2\n",
      "inter_drop: True\n",
      "units_0: 128\n",
      "activation: tanh\n",
      "final_dropout: True\n",
      "lr: 0.0002700698396331433\n",
      "first_dropout_rate: 0.05995962626915173\n",
      "units_1: 288\n",
      "final_dropout_rate: 0.25940005358131984\n",
      "second_GRU_units: 32\n",
      "second_GRU_dropout: 0.1488436724920587\n",
      "second_GRU_rec_dropout: 0.14295636957570967\n",
      "Score: 0.7782925367355347\n",
      "\n",
      "Trial 05 summary\n",
      "Hyperparameters:\n",
      "second_GRU_layer: False\n",
      "first_GRU_units: 320\n",
      "first_GRU_dropout: 0.19300506445629317\n",
      "first_GRU_rec_dropout: 0.18769335326660325\n",
      "first_dropout: False\n",
      "num_layers: 1\n",
      "inter_drop: True\n",
      "units_0: 32\n",
      "activation: relu\n",
      "final_dropout: False\n",
      "lr: 0.0069405535544335905\n",
      "units_1: 64\n",
      "Score: 0.7769688963890076\n",
      "\n",
      "Trial 03 summary\n",
      "Hyperparameters:\n",
      "second_GRU_layer: False\n",
      "first_GRU_units: 320\n",
      "first_GRU_dropout: 0.2502532149692079\n",
      "first_GRU_rec_dropout: 0.14173920373026244\n",
      "first_dropout: False\n",
      "num_layers: 2\n",
      "inter_drop: False\n",
      "units_0: 384\n",
      "activation: relu\n",
      "final_dropout: False\n",
      "lr: 0.000778341316157015\n",
      "units_1: 128\n",
      "Score: 0.7743216156959534\n",
      "\n",
      "Trial 11 summary\n",
      "Hyperparameters:\n",
      "second_GRU_layer: True\n",
      "first_GRU_units: 448\n",
      "first_GRU_dropout: 0.19595729330643152\n",
      "first_GRU_rec_dropout: 0.16315117150221514\n",
      "first_dropout: False\n",
      "num_layers: 1\n",
      "inter_drop: False\n",
      "units_0: 448\n",
      "activation: tanh\n",
      "final_dropout: False\n",
      "lr: 0.000256153969803113\n",
      "units_1: 224\n",
      "second_GRU_units: 192\n",
      "second_GRU_dropout: 0.1781026259542457\n",
      "second_GRU_rec_dropout: 0.2671648474900726\n",
      "Score: 0.7736598253250122\n",
      "\n",
      "Trial 01 summary\n",
      "Hyperparameters:\n",
      "second_GRU_layer: True\n",
      "first_GRU_units: 320\n",
      "first_GRU_dropout: 0.21774506963611118\n",
      "first_GRU_rec_dropout: 0.06968650045708831\n",
      "first_dropout: False\n",
      "num_layers: 1\n",
      "inter_drop: False\n",
      "units_0: 96\n",
      "activation: relu\n",
      "final_dropout: False\n",
      "lr: 0.00022117037118479508\n",
      "units_1: 320\n",
      "second_GRU_units: 32\n",
      "second_GRU_dropout: 0.05\n",
      "second_GRU_rec_dropout: 0.05\n",
      "Score: 0.7723361849784851\n",
      "\n",
      "Trial 06 summary\n",
      "Hyperparameters:\n",
      "second_GRU_layer: True\n",
      "first_GRU_units: 224\n",
      "first_GRU_dropout: 0.11786573584128106\n",
      "first_GRU_rec_dropout: 0.2955879416001891\n",
      "first_dropout: False\n",
      "num_layers: 2\n",
      "inter_drop: True\n",
      "units_0: 512\n",
      "activation: relu\n",
      "final_dropout: False\n",
      "lr: 0.0010224494885591197\n",
      "units_1: 192\n",
      "second_GRU_units: 448\n",
      "second_GRU_dropout: 0.13361980197428835\n",
      "second_GRU_rec_dropout: 0.22405502077090195\n",
      "Score: 0.7723361849784851\n",
      "\n",
      "Trial 00 summary\n",
      "Hyperparameters:\n",
      "second_GRU_layer: False\n",
      "first_GRU_units: 384\n",
      "first_GRU_dropout: 0.22559939051455286\n",
      "first_GRU_rec_dropout: 0.26569589279953754\n",
      "first_dropout: True\n",
      "num_layers: 2\n",
      "inter_drop: True\n",
      "units_0: 96\n",
      "activation: tanh\n",
      "final_dropout: True\n",
      "lr: 0.00038233309331929153\n",
      "first_dropout_rate: 0.05\n",
      "units_1: 32\n",
      "final_dropout_rate: 0.05\n",
      "Score: 0.7710126042366028\n"
     ]
    }
   ],
   "source": [
    "## Retrieve summary of all trials \n",
    "\n",
    "tuner.results_summary()"
   ]
  },
  {
   "cell_type": "code",
   "execution_count": 61,
   "id": "5c55e500-4c08-4ae0-b192-61a484693c74",
   "metadata": {
    "tags": []
   },
   "outputs": [
    {
     "name": "stdout",
     "output_type": "stream",
     "text": [
      "WARNING:tensorflow:Detecting that an object or model or tf.train.Checkpoint is being deleted with unrestored values. See the following logs for the specific values in question. To silence these warnings, use `status.expect_partial()`. See https://www.tensorflow.org/api_docs/python/tf/train/Checkpoint#restorefor details about the status object returned by the restore function.\n",
      "WARNING:tensorflow:Value in checkpoint could not be found in the restored object: (root).optimizer._variables.1\n",
      "WARNING:tensorflow:Value in checkpoint could not be found in the restored object: (root).optimizer._variables.2\n",
      "WARNING:tensorflow:Value in checkpoint could not be found in the restored object: (root).optimizer._variables.3\n",
      "WARNING:tensorflow:Value in checkpoint could not be found in the restored object: (root).optimizer._variables.4\n",
      "WARNING:tensorflow:Value in checkpoint could not be found in the restored object: (root).optimizer._variables.5\n",
      "WARNING:tensorflow:Value in checkpoint could not be found in the restored object: (root).optimizer._variables.6\n",
      "WARNING:tensorflow:Value in checkpoint could not be found in the restored object: (root).optimizer._variables.7\n",
      "WARNING:tensorflow:Value in checkpoint could not be found in the restored object: (root).optimizer._variables.8\n",
      "WARNING:tensorflow:Value in checkpoint could not be found in the restored object: (root).optimizer._variables.9\n",
      "WARNING:tensorflow:Value in checkpoint could not be found in the restored object: (root).optimizer._variables.10\n",
      "WARNING:tensorflow:Value in checkpoint could not be found in the restored object: (root).optimizer._variables.11\n",
      "WARNING:tensorflow:Value in checkpoint could not be found in the restored object: (root).optimizer._variables.12\n",
      "WARNING:tensorflow:Value in checkpoint could not be found in the restored object: (root).optimizer._variables.13\n",
      "WARNING:tensorflow:Value in checkpoint could not be found in the restored object: (root).optimizer._variables.14\n",
      "WARNING:tensorflow:Value in checkpoint could not be found in the restored object: (root).optimizer._variables.15\n",
      "WARNING:tensorflow:Value in checkpoint could not be found in the restored object: (root).optimizer._variables.16\n",
      "Model: \"GRU_tuned\"\n",
      "_________________________________________________________________\n",
      " Layer (type)                Output Shape              Param #   \n",
      "=================================================================\n",
      " text_vectorization (TextVe  (None, None)              0         \n",
      " ctorization)                                                    \n",
      "                                                                 \n",
      " embedding (Embedding)       (None, None, 64)          960000    \n",
      "                                                                 \n",
      " gru (GRU)                   (None, None, 288)         305856    \n",
      "                                                                 \n",
      " gru_1 (GRU)                 (None, 448)               991872    \n",
      "                                                                 \n",
      " dense (Dense)               (None, 512)               229888    \n",
      "                                                                 \n",
      " dense_1 (Dense)             (None, 64)                32832     \n",
      "                                                                 \n",
      " dense_2 (Dense)             (None, 1)                 65        \n",
      "                                                                 \n",
      "=================================================================\n",
      "Total params: 2520513 (9.61 MB)\n",
      "Trainable params: 2520513 (9.61 MB)\n",
      "Non-trainable params: 0 (0.00 Byte)\n",
      "_________________________________________________________________\n"
     ]
    }
   ],
   "source": [
    "## Retrieve the best model from keras tuner\n",
    "\n",
    "models = tuner.get_best_models(num_models=1)\n",
    "best_model = models[0]\n",
    "best_model.summary()"
   ]
  },
  {
   "cell_type": "code",
   "execution_count": 62,
   "id": "cbfbf1e6-e8ff-4844-91ea-723694b51153",
   "metadata": {
    "tags": []
   },
   "outputs": [
    {
     "name": "stdout",
     "output_type": "stream",
     "text": [
      "48/48 [==============================] - 3s 52ms/step\n"
     ]
    },
    {
     "data": {
      "text/html": [
       "<div>\n",
       "<style scoped>\n",
       "    .dataframe tbody tr th:only-of-type {\n",
       "        vertical-align: middle;\n",
       "    }\n",
       "\n",
       "    .dataframe tbody tr th {\n",
       "        vertical-align: top;\n",
       "    }\n",
       "\n",
       "    .dataframe thead th {\n",
       "        text-align: right;\n",
       "    }\n",
       "</style>\n",
       "<table border=\"1\" class=\"dataframe\">\n",
       "  <thead>\n",
       "    <tr style=\"text-align: right;\">\n",
       "      <th></th>\n",
       "      <th>Accuracy</th>\n",
       "      <th>Precision</th>\n",
       "      <th>Recall</th>\n",
       "      <th>F1_Score</th>\n",
       "    </tr>\n",
       "  </thead>\n",
       "  <tbody>\n",
       "    <tr>\n",
       "      <th>Simple_LSTM</th>\n",
       "      <td>0.778954</td>\n",
       "      <td>0.875895</td>\n",
       "      <td>0.565485</td>\n",
       "      <td>0.687266</td>\n",
       "    </tr>\n",
       "    <tr>\n",
       "      <th>Bidirectional_LSTM</th>\n",
       "      <td>0.749835</td>\n",
       "      <td>0.717496</td>\n",
       "      <td>0.688752</td>\n",
       "      <td>0.702830</td>\n",
       "    </tr>\n",
       "    <tr>\n",
       "      <th>GRU</th>\n",
       "      <td>0.767042</td>\n",
       "      <td>0.879795</td>\n",
       "      <td>0.530046</td>\n",
       "      <td>0.661538</td>\n",
       "    </tr>\n",
       "    <tr>\n",
       "      <th>tuned_GRU</th>\n",
       "      <td>0.779616</td>\n",
       "      <td>0.786232</td>\n",
       "      <td>0.668721</td>\n",
       "      <td>0.722731</td>\n",
       "    </tr>\n",
       "  </tbody>\n",
       "</table>\n",
       "</div>"
      ],
      "text/plain": [
       "                    Accuracy  Precision    Recall  F1_Score\n",
       "Simple_LSTM         0.778954   0.875895  0.565485  0.687266\n",
       "Bidirectional_LSTM  0.749835   0.717496  0.688752  0.702830\n",
       "GRU                 0.767042   0.879795  0.530046  0.661538\n",
       "tuned_GRU           0.779616   0.786232  0.668721  0.722731"
      ]
     },
     "execution_count": 62,
     "metadata": {},
     "output_type": "execute_result"
    }
   ],
   "source": [
    "#Predict\n",
    "y_prediction = best_model.predict(X_val)\n",
    "y_prediction = np.where(y_prediction > .5, 1, 0)\n",
    "\n",
    "\n",
    "#Create confusion matrix\n",
    "best_gru_conf = confusion_matrix(y_val, y_prediction)\n",
    "\n",
    "precision = precision_score(y_val, y_prediction)\n",
    "recall = recall_score(y_val, y_prediction)\n",
    "accuracy = accuracy_score(y_val, y_prediction)\n",
    "f1_score = sklearn.metrics.f1_score(y_val, y_prediction)\n",
    "\n",
    "metrics.loc['tuned_GRU'] = [accuracy, precision, recall, f1_score]\n",
    "\n",
    "metrics\n"
   ]
  },
  {
   "cell_type": "code",
   "execution_count": 63,
   "id": "0c1d24df-6162-4ef9-bfd7-e1561d7483e3",
   "metadata": {
    "tags": []
   },
   "outputs": [
    {
     "data": {
      "text/plain": [
       "[Text(0.5, 1.0, 'Tuned GRU Confusion Matrix'),\n",
       " Text(0.5, 23.52222222222222, 'True Label'),\n",
       " Text(50.722222222222214, 0.5, 'Predicted Label')]"
      ]
     },
     "execution_count": 63,
     "metadata": {},
     "output_type": "execute_result"
    },
    {
     "data": {
      "image/png": "[encoded data removed]",
      "text/plain": [
       "<Figure size 640x480 with 2 Axes>"
      ]
     },
     "metadata": {},
     "output_type": "display_data"
    }
   ],
   "source": [
    "sns.heatmap(best_gru_conf, annot=True, fmt='1g').set(\n",
    "    title='Tuned GRU Confusion Matrix',\n",
    "    xlabel = 'True Label',\n",
    "    ylabel = 'Predicted Label'\n",
    ")"
   ]
  },
  {
   "cell_type": "markdown",
   "id": "2030c289-cbca-4b24-ba01-46a5be4335b6",
   "metadata": {},
   "source": [
    "We can see from the above confusion matrix and metrics dataframe that hyperparameter tuning significantly increases the F1 score for our GRU network. "
   ]
  },
  {
   "cell_type": "markdown",
   "id": "7e72e6d1-c3e3-4fc7-843a-d57c07be9a4c",
   "metadata": {},
   "source": [
    "## Preparing Test Data for Submission"
   ]
  },
  {
   "cell_type": "code",
   "execution_count": 64,
   "id": "b5768bbc-846b-42a8-aeb7-68703c10765b",
   "metadata": {
    "tags": []
   },
   "outputs": [],
   "source": [
    "test['keyword'] = test['keyword'].fillna(\"\")\n",
    "test['location'] = test['location'].fillna(\"\")\n",
    "\n",
    "test['content'] = test['keyword'] + '_' + test['text'] + '_' + test['location']"
   ]
  },
  {
   "cell_type": "code",
   "execution_count": 65,
   "id": "f91959f4-f825-4ef7-b671-86d54dacb5e2",
   "metadata": {
    "tags": []
   },
   "outputs": [
    {
     "name": "stdout",
     "output_type": "stream",
     "text": [
      "102/102 [==============================] - 5s 50ms/step\n"
     ]
    }
   ],
   "source": [
    "#Predict using Model\n",
    "\n",
    "#gru\n",
    "predictions = best_model.predict(test['content'])\n",
    "\n"
   ]
  },
  {
   "cell_type": "code",
   "execution_count": 66,
   "id": "c794842d-3cee-4b6e-91bc-ebf063d99325",
   "metadata": {
    "tags": []
   },
   "outputs": [],
   "source": [
    "response = np.where(predictions > .5, 1, 0)\n",
    "\n",
    "test['target'] = response"
   ]
  },
  {
   "cell_type": "code",
   "execution_count": 67,
   "id": "4701a78c-0076-4add-83a1-03cb8ceac4de",
   "metadata": {
    "tags": []
   },
   "outputs": [],
   "source": [
    "answer = test.drop(columns=['keyword', 'location', 'text', 'content'])\n",
    "\n",
    "answer.head()\n",
    "\n",
    "answer.to_csv('./submission_tuned_GRU.csv', index=False)"
   ]
  },
  {
   "cell_type": "code",
   "execution_count": null,
   "id": "79ef1a18-8a7e-41e6-98f9-9cfb8f55e99f",
   "metadata": {},
   "outputs": [],
   "source": []
  }
 ],
 "metadata": {
  "kernelspec": {
   "display_name": "Python 3 (ipykernel)",
   "language": "python",
   "name": "python3"
  },
  "language_info": {
   "codemirror_mode": {
    "name": "ipython",
    "version": 3
   },
   "file_extension": ".py",
   "mimetype": "text/x-python",
   "name": "python",
   "nbconvert_exporter": "python",
   "pygments_lexer": "ipython3",
   "version": "3.11.5"
  }
 },
 "nbformat": 4,
 "nbformat_minor": 5
}
